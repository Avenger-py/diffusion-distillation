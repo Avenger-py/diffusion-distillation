{
 "cells": [
  {
   "cell_type": "code",
   "execution_count": null,
   "id": "68745197",
   "metadata": {},
   "outputs": [],
   "source": [
    "# !pip install matplotlib scipy tqdm kaggle"
   ]
  },
  {
   "cell_type": "code",
   "execution_count": null,
   "id": "3003eb5e",
   "metadata": {
    "papermill": {
     "duration": 5.26847,
     "end_time": "2024-06-30T06:11:44.170063",
     "exception": false,
     "start_time": "2024-06-30T06:11:38.901593",
     "status": "completed"
    },
    "tags": []
   },
   "outputs": [],
   "source": [
    "import torch\n",
    "import torchvision\n",
    "from torch.utils.data import DataLoader\n",
    "import matplotlib.pyplot as plt\n",
    "from tqdm import tqdm\n",
    "import os\n",
    "from utils import *\n",
    "from model import *\n",
    "from diffusion import *\n",
    "from config import Config\n",
    "from train_utils import *"
   ]
  },
  {
   "cell_type": "code",
   "execution_count": null,
   "id": "50467860-f40a-407b-b252-adead43881dd",
   "metadata": {},
   "outputs": [],
   "source": [
    "config = Config()"
   ]
  },
  {
   "cell_type": "markdown",
   "id": "5b8eef89",
   "metadata": {},
   "source": [
    "## Load dataset and display samples"
   ]
  },
  {
   "cell_type": "code",
   "execution_count": null,
   "id": "74b9cba1",
   "metadata": {
    "papermill": {
     "duration": 2.450143,
     "end_time": "2024-06-30T06:11:46.645870",
     "exception": false,
     "start_time": "2024-06-30T06:11:44.195727",
     "status": "completed"
    },
    "tags": []
   },
   "outputs": [],
   "source": [
    "data_root_dir = \"data\"\n",
    "\n",
    "dataset = torchvision.datasets.StanfordCars(data_root_dir)\n",
    "show_images(dataset, num_samples=4, cols=1)"
   ]
  },
  {
   "cell_type": "code",
   "execution_count": null,
   "id": "0f83eb6d",
   "metadata": {
    "papermill": {
     "duration": 0.779977,
     "end_time": "2024-06-30T06:11:47.497020",
     "exception": false,
     "start_time": "2024-06-30T06:11:46.717043",
     "status": "completed"
    },
    "tags": []
   },
   "outputs": [],
   "source": [
    "data = load_transformed_dataset(config.img_size, data_root_dir)\n",
    "# tiny_data = torch.utils.data.Subset(data, range(1))\n",
    "train_dataloader = DataLoader(data, batch_size=config.batch_size, shuffle=True, drop_last=False) #, collate_fn=custom_collate_fn)"
   ]
  },
  {
   "cell_type": "markdown",
   "id": "0bda78a6",
   "metadata": {},
   "source": [
    "## Test forward & reverse diffusion"
   ]
  },
  {
   "cell_type": "code",
   "execution_count": null,
   "id": "e8776c0a",
   "metadata": {
    "papermill": {
     "duration": 0.897742,
     "end_time": "2024-06-30T06:11:49.027007",
     "exception": false,
     "start_time": "2024-06-30T06:11:48.129265",
     "status": "completed"
    },
    "tags": []
   },
   "outputs": [],
   "source": [
    "img = next(iter(train_dataloader))[0]"
   ]
  },
  {
   "cell_type": "code",
   "execution_count": null,
   "id": "b4ae8b7c",
   "metadata": {
    "papermill": {
     "duration": 0.838247,
     "end_time": "2024-06-30T06:11:49.876327",
     "exception": false,
     "start_time": "2024-06-30T06:11:49.038080",
     "status": "completed"
    },
    "tags": []
   },
   "outputs": [],
   "source": [
    "steps = 10\n",
    "diffusion = Diffusion(timesteps=config.T)\n",
    "sampler = Sampler(sample_timesteps=config.T)\n",
    "t_test = torch.full((1,), steps, device=config.device, dtype=torch.long)\n",
    "img_t, _ = diffusion.forward_diffusion_sample(img, t_test)\n",
    "img_0 = sampler.sample_plot_image(None, sampling_steps=steps-1, testing=True, img=img, return_last_img=True, sampling=\"DDIM\", show=False)\n",
    "show_any_images([img, img_t, img_0], cols=3)\n",
    "del diffusion\n",
    "del sampler"
   ]
  },
  {
   "cell_type": "markdown",
   "id": "ae235d41",
   "metadata": {},
   "source": [
    "## Train a base model"
   ]
  },
  {
   "cell_type": "code",
   "execution_count": null,
   "id": "14384c52",
   "metadata": {
    "papermill": {
     "duration": 0.018587,
     "end_time": "2024-06-30T06:11:49.950478",
     "exception": false,
     "start_time": "2024-06-30T06:11:49.931891",
     "status": "completed"
    },
    "tags": []
   },
   "outputs": [],
   "source": [
    "# Skip to distillation section if trained already\n",
    "# Step 1\n",
    "# Define diffusion object\n",
    "diffusion_ = Diffusion(timesteps=config.T)"
   ]
  },
  {
   "cell_type": "code",
   "execution_count": null,
   "id": "bb5841ad",
   "metadata": {
    "papermill": {
     "duration": 2.94802,
     "end_time": "2024-06-30T06:11:52.909280",
     "exception": false,
     "start_time": "2024-06-30T06:11:49.961260",
     "status": "completed"
    },
    "tags": []
   },
   "outputs": [],
   "source": [
    "# Step 2\n",
    "# Define model\n",
    "model = Unet(time_embd_dim=config.time_embd_dim).to(config.device)\n",
    "optimizer = torch.optim.AdamW(model.parameters(), lr=config.lr)\n"
   ]
  },
  {
   "cell_type": "code",
   "execution_count": null,
   "id": "0008381f",
   "metadata": {},
   "outputs": [],
   "source": [
    "# Step 3\n",
    "# Run this cell to load a checkpoint, otherwise skip it\n",
    "model, optimizer = load_model(path=\"DDIM_unet_v7_ep24999.pt\", \n",
    "                    model=Unet(config.time_embd_dim).to(config.device), optimizer=optimizer)"
   ]
  },
  {
   "cell_type": "code",
   "execution_count": null,
   "id": "d05fb451",
   "metadata": {
    "papermill": {
     "duration": 41060.560091,
     "end_time": "2024-06-30T17:36:13.481612",
     "exception": false,
     "start_time": "2024-06-30T06:11:52.921521",
     "status": "completed"
    },
    "scrolled": true,
    "tags": []
   },
   "outputs": [],
   "source": [
    "# Step 4\n",
    "# Start the training loop\n",
    "teacher_model, losses = train_model(model, diffusion_, iters=config.max_iters, batch_size=config.batch_size, \n",
    "                        optimizer=optimizer, dataloader=train_dataloader, T=config.T)"
   ]
  },
  {
   "cell_type": "code",
   "execution_count": null,
   "id": "d58de13c",
   "metadata": {},
   "outputs": [],
   "source": [
    "# plt.plot(losses)"
   ]
  },
  {
   "cell_type": "code",
   "execution_count": null,
   "id": "ed412618",
   "metadata": {},
   "outputs": [],
   "source": [
    "# del teacher_model"
   ]
  },
  {
   "cell_type": "markdown",
   "id": "868ce102",
   "metadata": {},
   "source": [
    "## Distillation: Training a student model"
   ]
  },
  {
   "cell_type": "code",
   "execution_count": null,
   "id": "e933fc92",
   "metadata": {},
   "outputs": [],
   "source": [
    "# Skip above steps 1 - 4, if you already have trained base/teacher model\n",
    "# Load teacher model checkpoint\n",
    "# We will only map teacher model to cuda when computing distillation loss to save memory\n",
    "tmodel, _ = load_model(\"DDIM_unet_v1_st4_ep29999.pt\", Unet(config.time_embd_dim))\n",
    "#tmodel.to(config.device)\n",
    "\n"
   ]
  },
  {
   "cell_type": "code",
   "execution_count": null,
   "id": "0c50b12b",
   "metadata": {},
   "outputs": [],
   "source": [
    "# next(tmodel.parameters()).device"
   ]
  },
  {
   "cell_type": "code",
   "execution_count": null,
   "id": "dc4ab4ea",
   "metadata": {},
   "outputs": [],
   "source": [
    "# del tmodel"
   ]
  },
  {
   "cell_type": "markdown",
   "id": "71416959",
   "metadata": {},
   "source": [
    "###"
   ]
  },
  {
   "cell_type": "code",
   "execution_count": null,
   "id": "52e405d8",
   "metadata": {
    "papermill": {
     "duration": 5.098607,
     "end_time": "2024-06-30T17:36:33.575017",
     "exception": false,
     "start_time": "2024-06-30T17:36:28.476410",
     "status": "completed"
    },
    "scrolled": true,
    "tags": []
   },
   "outputs": [],
   "source": [
    "# Start student training loop\n",
    "iters = config.max_iters\n",
    "sm_steps = 2 # sampling steps: 128-> 64-> 32-> 16-> 8-> 4-> 2\n",
    "student_model, losses = train_student(iters, sm_steps, tmodel, config.batch_size, train_dataloader, \n",
    "                                    config.T, student_ckpt_path=None)"
   ]
  },
  {
   "cell_type": "code",
   "execution_count": null,
   "id": "02ff622b",
   "metadata": {},
   "outputs": [],
   "source": [
    "plt.plot(losses)"
   ]
  },
  {
   "cell_type": "code",
   "execution_count": null,
   "id": "94195fb8",
   "metadata": {},
   "outputs": [],
   "source": [
    "del student_model"
   ]
  },
  {
   "cell_type": "markdown",
   "id": "4559705a",
   "metadata": {},
   "source": [
    "## Sampling"
   ]
  },
  {
   "cell_type": "code",
   "execution_count": null,
   "id": "8f2ab114",
   "metadata": {},
   "outputs": [],
   "source": [
    "# Initializing noisy vectors for sampling\n",
    "# Making the noisy imgs fixed for fair comparison and reproducibility\n",
    "torch.manual_seed(42)\n",
    "num_samples = 4\n",
    "noisy_imgs = [torch.randn((1, 3, config.img_size, config.img_size)) for i in range(num_samples)]"
   ]
  },
  {
   "cell_type": "code",
   "execution_count": null,
   "id": "cacf009d",
   "metadata": {},
   "outputs": [],
   "source": [
    "# Sampling using teacher model\n",
    "# tmodel.eval()\n",
    "# for param in tmodel.parameters():\n",
    "#             param.requires_grad = False\n",
    "\n",
    "tt = 1000 # timesteps for diffusion\n",
    "stps = 256 # sampling steps\n",
    "tsampler = Sampler(tt)\n",
    "for i in tqdm(range(num_samples)):\n",
    "    img = tsampler.sample_plot_image(tmodel.to(config.device), stps, return_last_img=True, img=noisy_imgs[i].to(config.device))\n",
    "    #save_tensor_image(img, f\"image_{i}_{stps}.png\", (256, 256))"
   ]
  },
  {
   "cell_type": "code",
   "execution_count": null,
   "id": "3736c7fa",
   "metadata": {},
   "outputs": [],
   "source": [
    "# Load student model checkpoint\n",
    "smodel, _ = load_model(\"DDIM_unet_v1_st2_ep29999.pt\", Unet(time_embd_dim=config.time_embd_dim).to(config.device))"
   ]
  },
  {
   "cell_type": "code",
   "execution_count": null,
   "id": "3573dcdb",
   "metadata": {
    "papermill": {
     "duration": 5.065421,
     "end_time": "2024-06-30T17:36:23.503898",
     "exception": false,
     "start_time": "2024-06-30T17:36:18.438477",
     "status": "completed"
    },
    "tags": []
   },
   "outputs": [],
   "source": [
    "# Sampling using student model\n",
    "ts = tt # timesteps for diffusion\n",
    "stps =16 # sampling steps\n",
    "ssampler = Sampler(ts)\n",
    "for i in tqdm(range(num_samples)):\n",
    "    img = ssampler.sample_plot_image(smodel, stps, return_last_img=True, img=noisy_imgs[i].to(config.device))\n",
    "#     save_tensor_image(img, f\"s_image_{i}_{stps}.png\", (256, 256))"
   ]
  },
  {
   "cell_type": "code",
   "execution_count": null,
   "id": "5cfbe21c",
   "metadata": {},
   "outputs": [],
   "source": [
    "del teacher_model\n",
    "del model\n",
    "del student_model"
   ]
  }
 ],
 "metadata": {
  "kaggle": {
   "accelerator": "gpu",
   "dataSources": [
    {
     "datasetId": 5203439,
     "sourceId": 8680060,
     "sourceType": "datasetVersion"
    },
    {
     "modelInstanceId": 59077,
     "sourceId": 70761,
     "sourceType": "modelInstanceVersion"
    },
    {
     "isSourceIdPinned": true,
     "modelInstanceId": 59759,
     "sourceId": 71549,
     "sourceType": "modelInstanceVersion"
    },
    {
     "isSourceIdPinned": true,
     "modelInstanceId": 65440,
     "sourceId": 77836,
     "sourceType": "modelInstanceVersion"
    }
   ],
   "dockerImageVersionId": 30747,
   "isGpuEnabled": true,
   "isInternetEnabled": true,
   "language": "python",
   "sourceType": "notebook"
  },
  "kernelspec": {
   "display_name": "Python 3 (ipykernel)",
   "language": "python",
   "name": "python3"
  },
  "language_info": {
   "codemirror_mode": {
    "name": "ipython",
    "version": 3
   },
   "file_extension": ".py",
   "mimetype": "text/x-python",
   "name": "python",
   "nbconvert_exporter": "python",
   "pygments_lexer": "ipython3",
   "version": "3.10.12"
  },
  "papermill": {
   "default_parameters": {},
   "duration": 41103.867361,
   "end_time": "2024-06-30T17:36:39.964876",
   "environment_variables": {},
   "exception": null,
   "input_path": "__notebook__.ipynb",
   "output_path": "__notebook__.ipynb",
   "parameters": {},
   "start_time": "2024-06-30T06:11:36.097515",
   "version": "2.5.0"
  }
 },
 "nbformat": 4,
 "nbformat_minor": 5
}
